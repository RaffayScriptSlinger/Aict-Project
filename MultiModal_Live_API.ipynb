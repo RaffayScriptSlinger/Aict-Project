{
  "cells": [
    {
      "cell_type": "markdown",
      "metadata": {
        "id": "view-in-github",
        "colab_type": "text"
      },
      "source": [
        "<a href=\"https://colab.research.google.com/github/RaffayScriptSlinger/Aict-Project/blob/main/MultiModal_Live_API.ipynb\" target=\"_parent\"><img src=\"https://colab.research.google.com/assets/colab-badge.svg\" alt=\"Open In Colab\"/></a>"
      ]
    },
    {
      "cell_type": "markdown",
      "metadata": {
        "id": "zds864joj9Cy"
      },
      "source": [
        "### **Installation**"
      ]
    },
    {
      "cell_type": "code",
      "execution_count": null,
      "metadata": {
        "colab": {
          "base_uri": "https://localhost:8080/"
        },
        "id": "ggvElBzdv5c7",
        "outputId": "cd007a8a-e2e9-477c-877b-b47339619c1d"
      },
      "outputs": [
        {
          "name": "stdout",
          "output_type": "stream",
          "text": [
            "\u001b[?25l   \u001b[90m━━━━━━━━━━━━━━━━━━━━━━━━━━━━━━━━━━━━━━━━\u001b[0m \u001b[32m0.0/196.3 kB\u001b[0m \u001b[31m?\u001b[0m eta \u001b[36m-:--:--\u001b[0m\r\u001b[2K   \u001b[91m━━━━━━━━━━━━━━━━━━━━━━━━━━━━━━━━━━━━━━━\u001b[0m\u001b[91m╸\u001b[0m \u001b[32m194.6/196.3 kB\u001b[0m \u001b[31m8.0 MB/s\u001b[0m eta \u001b[36m0:00:01\u001b[0m\r\u001b[2K   \u001b[90m━━━━━━━━━━━━━━━━━━━━━━━━━━━━━━━━━━━━━━━━\u001b[0m \u001b[32m196.3/196.3 kB\u001b[0m \u001b[31m5.2 MB/s\u001b[0m eta \u001b[36m0:00:00\u001b[0m\n",
            "\u001b[?25h"
          ]
        }
      ],
      "source": [
        "%pip install -q -U \"google-genai>=1.0.0\""
      ]
    },
    {
      "cell_type": "markdown",
      "metadata": {
        "id": "1KYL-OHCj5nR"
      },
      "source": [
        "### **Initialization**"
      ]
    },
    {
      "cell_type": "code",
      "execution_count": 13,
      "metadata": {
        "id": "0DWo9pFzwIl0"
      },
      "outputs": [],
      "source": [
        "from google.colab import userdata\n",
        "\n",
        "# GOOGLE_API_KEY = userdata.get('GOOGLE_API_KEY')\n",
        "GOOGLE_API_KEY = userdata.get('GOOGLE_API_KEY_1')"
      ]
    },
    {
      "cell_type": "code",
      "execution_count": 14,
      "metadata": {
        "id": "e0CHtpK1wRbz"
      },
      "outputs": [],
      "source": [
        "import asyncio\n",
        "import contextlib\n",
        "import json\n",
        "import wave\n",
        "\n",
        "from IPython import display\n",
        "\n",
        "from google import genai\n",
        "from google.genai import types\n",
        "\n",
        "\n",
        "\n",
        "client = genai.Client(api_key=GOOGLE_API_KEY)"
      ]
    },
    {
      "cell_type": "code",
      "execution_count": 15,
      "metadata": {
        "id": "LbvzSLeOwSOw"
      },
      "outputs": [],
      "source": [
        "MODEL_ID=\"gemini-2.0-flash-exp\" # @param [\"gemini-2.0-flash\",\"gemini-2.0-flash-exp\",\"gemini-1.5-pro\",\"gemini-2.5-flash-preview-04-17\", \"gemini-2.5-pro-preview-05-06\", \"gemini-2.0-flash-exp-image-generation\"] {\"allow-input\":true, isTemplate: true}"
      ]
    },
    {
      "cell_type": "markdown",
      "metadata": {
        "id": "0qdGQyxqjqZF"
      },
      "source": [
        "### **Helper Functions**"
      ]
    },
    {
      "cell_type": "code",
      "execution_count": 17,
      "metadata": {
        "id": "JTu1NI0lUKtM"
      },
      "outputs": [],
      "source": [
        "# Making Directory of Functions to Simulate Real World API Integration\n",
        "def get_current_weather(args):\n",
        "    # In a real app, this would query a Open Weather API\n",
        "    return {\n",
        "              \"temperature\": '33C',\n",
        "              \"comments\": f\"\"\"The current weather of {args['location']} is Sunny and there is no chance of rain today.\"\"\"\n",
        "            }\n",
        "\n",
        "def check_calendar_api(args):\n",
        "    # In a real app, this would query a calendar API to check availability\n",
        "    return {\"available\": True}\n",
        "\n",
        "def create_meeting_api(args):\n",
        "    # In a real app, this would call a calendar API to create an event\n",
        "    return {\"meeting_id\": \"123456\", \"created\": True}\n",
        "\n",
        "def send_email_api(args):\n",
        "    # In a real app, this would call an email API\n",
        "    return {\"sent\": True}\n",
        "\n",
        "\n",
        "AVAILABLE_FUNCTIONS = {\n",
        "    \"get_current_weather\" : get_current_weather,\n",
        "    \"check_calendar\": check_calendar_api,\n",
        "    \"create_meeting\": create_meeting_api,\n",
        "    \"send_email\": send_email_api\n",
        "}"
      ]
    },
    {
      "cell_type": "code",
      "execution_count": 18,
      "metadata": {
        "id": "oYbuUlJIJwdb"
      },
      "outputs": [],
      "source": [
        "def handle_server_content(server_content):\n",
        "  model_turn = server_content.model_turn\n",
        "  if model_turn:\n",
        "    for part in model_turn.parts:\n",
        "      executable_code = part.executable_code\n",
        "      if executable_code is not None:\n",
        "        display.display(display.Markdown('-------------------------------'))\n",
        "        display.display(display.Markdown(f'``` python\\n{executable_code.code}\\n```'))\n",
        "        display.display(display.Markdown('-------------------------------'))\n",
        "\n",
        "      code_execution_result = part.code_execution_result\n",
        "      if code_execution_result is not None:\n",
        "        display.display(display.Markdown('-------------------------------'))\n",
        "        display.display(display.Markdown(f'```{code_execution_result.output}```'))\n",
        "        display.display(display.Markdown('-------------------------------'))\n",
        "\n",
        "  grounding_metadata = getattr(server_content, 'grounding_metadata', None)\n",
        "  if grounding_metadata is not None:\n",
        "    display.display(\n",
        "        display.HTML(grounding_metadata.search_entry_point.rendered_content))\n",
        "\n",
        "  return"
      ]
    },
    {
      "cell_type": "code",
      "execution_count": 19,
      "metadata": {
        "id": "8NdwM_gQJ0LZ"
      },
      "outputs": [],
      "source": [
        "async def handle_tool_call(session, tool_call):\n",
        "  function_responses = []\n",
        "  for fc in tool_call.function_calls:\n",
        "     if fc.name in AVAILABLE_FUNCTIONS:\n",
        "          function_to_call = AVAILABLE_FUNCTIONS[fc.name]\n",
        "          response_data = function_to_call(fc.args)\n",
        "     else:\n",
        "          # Handle unknown functions\n",
        "          response_data = {\"reslt\": \"ok\"}\n",
        "          print(f\"✅ Function result: {response_data}\")\n",
        "\n",
        "  function_response = types.FunctionResponse(\n",
        "          id=fc.id,\n",
        "          name=fc.name,\n",
        "          response=response_data,  # Use actual function result\n",
        "  )\n",
        "  function_responses.append(function_response)\n",
        "  print('\\n Response >>> ', function_responses)\n",
        "  await session.send_tool_response(function_responses=function_responses)\n",
        "  return function_responses"
      ]
    },
    {
      "cell_type": "code",
      "execution_count": 20,
      "metadata": {
        "id": "bdtxsyUgI5zr"
      },
      "outputs": [],
      "source": [
        "async def run(prompt, modality=\"TEXT\", tools=[]):\n",
        "  config = {\n",
        "          \"tools\": tools,\n",
        "          \"response_modalities\": [modality]\n",
        "  }\n",
        "\n",
        "  async with client.aio.live.connect(model=MODEL_ID, config=config) as session:\n",
        "    display.display(display.Markdown(prompt))\n",
        "    display.display(display.Markdown('-------------------------------'))\n",
        "    await session.send_client_content(\n",
        "      turns={\"role\": \"user\", \"parts\": [{\"text\": prompt}]}, turn_complete=True\n",
        "    )\n",
        "\n",
        "    async for response in session.receive():\n",
        "      if text:=response.text:\n",
        "        display.display(display.Markdown(text))\n",
        "        continue\n",
        "\n",
        "      server_content = response.server_content\n",
        "      if server_content is not None:\n",
        "        handle_server_content(server_content)\n",
        "        continue\n",
        "\n",
        "      tool_call = response.tool_call\n",
        "      if tool_call is not None:\n",
        "        await handle_tool_call(session, tool_call)\n",
        "        # return await handle_tool_call(session, tool_call)\n"
      ]
    },
    {
      "cell_type": "markdown",
      "metadata": {
        "id": "cH59wuaEjwPk"
      },
      "source": [
        "### **Hello Gemini 2.0**"
      ]
    },
    {
      "cell_type": "code",
      "execution_count": 21,
      "metadata": {
        "colab": {
          "base_uri": "https://localhost:8080/",
          "height": 103
        },
        "id": "-h6Ljwj8J_P_",
        "outputId": "7d2addad-b68a-4df2-c4a6-316c364703e2"
      },
      "outputs": [
        {
          "output_type": "display_data",
          "data": {
            "text/plain": [
              "<IPython.core.display.Markdown object>"
            ],
            "text/markdown": "Hello?"
          },
          "metadata": {}
        },
        {
          "output_type": "display_data",
          "data": {
            "text/plain": [
              "<IPython.core.display.Markdown object>"
            ],
            "text/markdown": "-------------------------------"
          },
          "metadata": {}
        },
        {
          "output_type": "display_data",
          "data": {
            "text/plain": [
              "<IPython.core.display.Markdown object>"
            ],
            "text/markdown": "Hello there"
          },
          "metadata": {}
        },
        {
          "output_type": "display_data",
          "data": {
            "text/plain": [
              "<IPython.core.display.Markdown object>"
            ],
            "text/markdown": "! How can I help you today?\n"
          },
          "metadata": {}
        }
      ],
      "source": [
        "await run(prompt=\"Hello?\", tools=None)"
      ]
    },
    {
      "cell_type": "markdown",
      "metadata": {
        "id": "1wHAmgrNjZ8H"
      },
      "source": [
        "### **Simple Function Calling**"
      ]
    },
    {
      "cell_type": "code",
      "execution_count": 22,
      "metadata": {
        "id": "SCxOYj_p2r4q"
      },
      "outputs": [],
      "source": [
        "# Function definition\n",
        "get_current_weather_info = {\n",
        "        \"name\": \"get_current_weather\",\n",
        "        \"description\": \"Get the current weather of a given location.\",\n",
        "        \"parameters\": {\n",
        "            \"type\": \"object\",\n",
        "            \"properties\": {\n",
        "                \"location\": {\n",
        "                    \"type\": \"string\",\n",
        "                    \"description\": \"The city and state, e.g., San Francisco, CA\"\n",
        "                },\n",
        "                \"unit\": {\n",
        "                    \"type\": \"string\",\n",
        "                    \"enum\": [\"celsius\", \"fahrenheit\"],\n",
        "                    \"description\": \"The temperature unit to use\"\n",
        "                }\n",
        "            },\n",
        "            \"required\": [\"location\"]\n",
        "        }\n",
        "    }"
      ]
    },
    {
      "cell_type": "code",
      "execution_count": 23,
      "metadata": {
        "colab": {
          "base_uri": "https://localhost:8080/",
          "height": 293
        },
        "collapsed": true,
        "id": "_i8gdZqZwVsl",
        "outputId": "11b02375-6804-406f-e599-74c24eae763d"
      },
      "outputs": [
        {
          "output_type": "display_data",
          "data": {
            "text/plain": [
              "<IPython.core.display.Markdown object>"
            ],
            "text/markdown": "What's the weather of Karachi, Pakistan?"
          },
          "metadata": {}
        },
        {
          "output_type": "display_data",
          "data": {
            "text/plain": [
              "<IPython.core.display.Markdown object>"
            ],
            "text/markdown": "-------------------------------"
          },
          "metadata": {}
        },
        {
          "output_type": "stream",
          "name": "stderr",
          "text": [
            "WARNING:google_genai.types:Warning: there are non-text parts in the response: ['executable_code'], returning concatenated text result from text parts, check out the non text parts for full response from model.\n"
          ]
        },
        {
          "output_type": "display_data",
          "data": {
            "text/plain": [
              "<IPython.core.display.Markdown object>"
            ],
            "text/markdown": "-------------------------------"
          },
          "metadata": {}
        },
        {
          "output_type": "display_data",
          "data": {
            "text/plain": [
              "<IPython.core.display.Markdown object>"
            ],
            "text/markdown": "``` python\nprint(default_api.get_current_weather(location=\"Karachi, Pakistan\"))\n\n```"
          },
          "metadata": {}
        },
        {
          "output_type": "display_data",
          "data": {
            "text/plain": [
              "<IPython.core.display.Markdown object>"
            ],
            "text/markdown": "-------------------------------"
          },
          "metadata": {}
        },
        {
          "output_type": "stream",
          "name": "stderr",
          "text": [
            "WARNING:google_genai.types:Warning: there are non-text parts in the response: ['code_execution_result'], returning concatenated text result from text parts, check out the non text parts for full response from model.\n"
          ]
        },
        {
          "output_type": "stream",
          "name": "stdout",
          "text": [
            "\n",
            " Response >>>  [FunctionResponse(will_continue=None, scheduling=None, id='function-call-17303261276366456000', name='get_current_weather', response={'temperature': '33C', 'comments': 'The current weather of Karachi, Pakistan is Sunny and there is no chance of rain today.'})]\n"
          ]
        },
        {
          "output_type": "display_data",
          "data": {
            "text/plain": [
              "<IPython.core.display.Markdown object>"
            ],
            "text/markdown": "-------------------------------"
          },
          "metadata": {}
        },
        {
          "output_type": "display_data",
          "data": {
            "text/plain": [
              "<IPython.core.display.Markdown object>"
            ],
            "text/markdown": "```{'temperature': '33C', 'comments': 'The current weather of Karachi, Pakistan is Sunny and there is no chance of rain today.'}\n```"
          },
          "metadata": {}
        },
        {
          "output_type": "display_data",
          "data": {
            "text/plain": [
              "<IPython.core.display.Markdown object>"
            ],
            "text/markdown": "-------------------------------"
          },
          "metadata": {}
        },
        {
          "output_type": "display_data",
          "data": {
            "text/plain": [
              "<IPython.core.display.Markdown object>"
            ],
            "text/markdown": "It"
          },
          "metadata": {}
        },
        {
          "output_type": "display_data",
          "data": {
            "text/plain": [
              "<IPython.core.display.Markdown object>"
            ],
            "text/markdown": "'s 33C and sunny in Karachi, Pakistan. There is no chance of rain"
          },
          "metadata": {}
        },
        {
          "output_type": "display_data",
          "data": {
            "text/plain": [
              "<IPython.core.display.Markdown object>"
            ],
            "text/markdown": " today.\n"
          },
          "metadata": {}
        }
      ],
      "source": [
        "prompt = \"What's the weather of Karachi, Pakistan?\"\n",
        "\n",
        "tools = [\n",
        "    {'function_declarations': [get_current_weather_info]}\n",
        "]\n",
        "\n",
        "await run(prompt, tools=tools)\n"
      ]
    },
    {
      "cell_type": "markdown",
      "metadata": {
        "id": "VmtQyRm5izV5"
      },
      "source": [
        "### **Single Turn Function Calling**"
      ]
    },
    {
      "cell_type": "code",
      "execution_count": 29,
      "metadata": {
        "id": "AJUoHwLVMqh0"
      },
      "outputs": [],
      "source": [
        "start_music = {\n",
        "    \"name\": \"start_music\",\n",
        "    \"description\": \"Play some music matching the specified parameters.\",\n",
        "    \"parameters\": {\n",
        "        \"type\": \"object\",\n",
        "        \"properties\": {\n",
        "            \"energetic\": {\n",
        "                \"type\": \"boolean\",\n",
        "                \"description\": \"Whether the music is energetic or not.\",\n",
        "            },\n",
        "            \"loud\": {\n",
        "                \"type\": \"boolean\",\n",
        "                \"description\": \"Whether the music is loud or not.\",\n",
        "            },\n",
        "        },\n",
        "        \"required\": [\"energetic\", \"loud\"],\n",
        "    },\n",
        "}\n",
        "\n",
        "dim_lights = {\n",
        "    \"name\": \"dim_lights\",\n",
        "    \"description\": \"Dim the lights.\",\n",
        "    \"parameters\": {\n",
        "        \"type\": \"object\",\n",
        "        \"properties\": {\n",
        "            \"brightness\": {\n",
        "                \"type\": \"number\",\n",
        "                \"description\": \"The brightness of the lights, 0.0 is off, 1.0 is full.\",\n",
        "            }\n",
        "        },\n",
        "        \"required\": [\"brightness\"],\n",
        "    },\n",
        "}"
      ]
    },
    {
      "cell_type": "code",
      "execution_count": 30,
      "metadata": {
        "colab": {
          "base_uri": "https://localhost:8080/",
          "height": 0
        },
        "id": "FFYzkpa0YPx_",
        "outputId": "8ec62be3-78fb-44fc-d34d-49f83e155e20"
      },
      "outputs": [
        {
          "output_type": "display_data",
          "data": {
            "text/plain": [
              "<IPython.core.display.Markdown object>"
            ],
            "text/markdown": "Turn this place into a party!"
          },
          "metadata": {}
        },
        {
          "output_type": "display_data",
          "data": {
            "text/plain": [
              "<IPython.core.display.Markdown object>"
            ],
            "text/markdown": "-------------------------------"
          },
          "metadata": {}
        },
        {
          "output_type": "display_data",
          "data": {
            "text/plain": [
              "<IPython.core.display.Markdown object>"
            ],
            "text/markdown": "Alright"
          },
          "metadata": {}
        },
        {
          "output_type": "display_data",
          "data": {
            "text/plain": [
              "<IPython.core.display.Markdown object>"
            ],
            "text/markdown": "! I can help you with that. I can play some music and dim the lights."
          },
          "metadata": {}
        },
        {
          "output_type": "display_data",
          "data": {
            "text/plain": [
              "<IPython.core.display.Markdown object>"
            ],
            "text/markdown": " Should I play loud and energetic music?\n"
          },
          "metadata": {}
        }
      ],
      "source": [
        "prompt = \"Turn this place into a party!\"\n",
        "\n",
        "tools = [\n",
        "    {'function_declarations': [start_music, dim_lights]}\n",
        "]\n",
        "\n",
        "# prompt = 'I want moderate lights not too bright'\n",
        "\n",
        "# prompt = 'Play some music loud but not energetic!'\n",
        "\n",
        "# prompt = \"Turn on the AC\"\n",
        "\n",
        "await run(prompt, tools=tools)"
      ]
    },
    {
      "cell_type": "markdown",
      "metadata": {
        "id": "chdbVzckhGyC"
      },
      "source": [
        "### **Parallel Exceution Example:**"
      ]
    },
    {
      "cell_type": "code",
      "execution_count": 31,
      "metadata": {
        "colab": {
          "base_uri": "https://localhost:8080/",
          "height": 0
        },
        "collapsed": true,
        "id": "s-I0WK4KOGC9",
        "outputId": "072802c0-a3b0-4862-dcb5-6f9d86dd7256"
      },
      "outputs": [
        {
          "output_type": "display_data",
          "data": {
            "text/plain": [
              "<IPython.core.display.Markdown object>"
            ],
            "text/markdown": "Hey, can you write run some python code to check if the string racecar is Palindrome, wait 10s and then turn off the lights?"
          },
          "metadata": {}
        },
        {
          "output_type": "display_data",
          "data": {
            "text/plain": [
              "<IPython.core.display.Markdown object>"
            ],
            "text/markdown": "-------------------------------"
          },
          "metadata": {}
        },
        {
          "output_type": "stream",
          "name": "stderr",
          "text": [
            "WARNING:google_genai.types:Warning: there are non-text parts in the response: ['executable_code'], returning concatenated text result from text parts, check out the non text parts for full response from model.\n"
          ]
        },
        {
          "output_type": "display_data",
          "data": {
            "text/plain": [
              "<IPython.core.display.Markdown object>"
            ],
            "text/markdown": "-------------------------------"
          },
          "metadata": {}
        },
        {
          "output_type": "display_data",
          "data": {
            "text/plain": [
              "<IPython.core.display.Markdown object>"
            ],
            "text/markdown": "``` python\nimport time\n\ndef is_palindrome(s):\n  return s == s[::-1]\n\nword = \"racecar\"\nif is_palindrome(word):\n  print(f\"{word} is a palindrome\")\nelse:\n  print(f\"{word} is not a palindrome\")\n\ntime.sleep(10)\nprint(\"Turning off the lights.\")\ndefault_api.dim_lights(brightness=0.0)\n\n```"
          },
          "metadata": {}
        },
        {
          "output_type": "display_data",
          "data": {
            "text/plain": [
              "<IPython.core.display.Markdown object>"
            ],
            "text/markdown": "-------------------------------"
          },
          "metadata": {}
        },
        {
          "output_type": "stream",
          "name": "stderr",
          "text": [
            "WARNING:google_genai.types:Warning: there are non-text parts in the response: ['code_execution_result'], returning concatenated text result from text parts, check out the non text parts for full response from model.\n"
          ]
        },
        {
          "output_type": "stream",
          "name": "stdout",
          "text": [
            "✅ Function result: {'reslt': 'ok'}\n",
            "\n",
            " Response >>>  [FunctionResponse(will_continue=None, scheduling=None, id='function-call-17745903199978889933', name='dim_lights', response={'reslt': 'ok'})]\n"
          ]
        },
        {
          "output_type": "display_data",
          "data": {
            "text/plain": [
              "<IPython.core.display.Markdown object>"
            ],
            "text/markdown": "-------------------------------"
          },
          "metadata": {}
        },
        {
          "output_type": "display_data",
          "data": {
            "text/plain": [
              "<IPython.core.display.Markdown object>"
            ],
            "text/markdown": "```racecar is a palindrome\nTurning off the lights.\n```"
          },
          "metadata": {}
        },
        {
          "output_type": "display_data",
          "data": {
            "text/plain": [
              "<IPython.core.display.Markdown object>"
            ],
            "text/markdown": "-------------------------------"
          },
          "metadata": {}
        },
        {
          "output_type": "display_data",
          "data": {
            "text/plain": [
              "<IPython.core.display.Markdown object>"
            ],
            "text/markdown": "OK"
          },
          "metadata": {}
        },
        {
          "output_type": "display_data",
          "data": {
            "text/plain": [
              "<IPython.core.display.Markdown object>"
            ],
            "text/markdown": ". The word \"racecar\" is a palindrome. I have waited 10 seconds"
          },
          "metadata": {}
        },
        {
          "output_type": "display_data",
          "data": {
            "text/plain": [
              "<IPython.core.display.Markdown object>"
            ],
            "text/markdown": " and turned off the lights.\n"
          },
          "metadata": {}
        }
      ],
      "source": [
        "prompt = 'Hey, can you write run some python code to check if the string racecar is Palindrome, wait 10s and then turn off the lights?'\n",
        "\n",
        "tools = [\n",
        "    {'code_execution': {}},\n",
        "    {'function_declarations': [dim_lights]}\n",
        "]\n",
        "\n",
        "await run(prompt, tools=tools)"
      ]
    },
    {
      "cell_type": "markdown",
      "metadata": {
        "id": "jong80v6g32C"
      },
      "source": [
        "### **Compositional Function Calling**"
      ]
    },
    {
      "cell_type": "code",
      "execution_count": null,
      "metadata": {
        "id": "clb2EBWhVZvu"
      },
      "outputs": [],
      "source": [
        "meeting_tools = [\n",
        "    {\n",
        "        \"function_declarations\": [\n",
        "            {\n",
        "                \"name\": \"check_calendar\",\n",
        "                \"description\": \"Check calendar for availability\",\n",
        "                \"parameters\": {\n",
        "                    \"type\": \"object\",\n",
        "                    \"properties\": {\n",
        "                        \"date\": {\n",
        "                            \"type\": \"string\",\n",
        "                            \"description\": \"The date to check in YYYY-MM-DD format\"\n",
        "                        },\n",
        "                        \"start_time\": {\n",
        "                            \"type\": \"string\",\n",
        "                            \"description\": \"The start time in HH:MM format\"\n",
        "                        },\n",
        "                        \"end_time\": {\n",
        "                            \"type\": \"string\",\n",
        "                            \"description\": \"The end time in HH:MM format\"\n",
        "                        }\n",
        "                    },\n",
        "                    \"required\": [\"date\", \"start_time\", \"end_time\"]\n",
        "                }\n",
        "            },\n",
        "            {\n",
        "                \"name\": \"create_meeting\",\n",
        "                \"description\": \"Create a calendar event\",\n",
        "                \"parameters\": {\n",
        "                    \"type\": \"object\",\n",
        "                    \"properties\": {\n",
        "                        \"title\": {\n",
        "                            \"type\": \"string\",\n",
        "                            \"description\": \"The title of the meeting\"\n",
        "                        },\n",
        "                        \"date\": {\n",
        "                            \"type\": \"string\",\n",
        "                            \"description\": \"The date of the meeting in YYYY-MM-DD format\"\n",
        "                        },\n",
        "                        \"start_time\": {\n",
        "                            \"type\": \"string\",\n",
        "                            \"description\": \"The start time in HH:MM format\"\n",
        "                        },\n",
        "                        \"end_time\": {\n",
        "                            \"type\": \"string\",\n",
        "                            \"description\": \"The end time in HH:MM format\"\n",
        "                        },\n",
        "                        \"attendees\": {\n",
        "                            \"type\": \"array\",\n",
        "                            \"items\": {\n",
        "                                \"type\": \"string\"\n",
        "                            },\n",
        "                            \"description\": \"List of email addresses for attendees\"\n",
        "                        }\n",
        "                    },\n",
        "                    \"required\": [\"title\", \"date\", \"start_time\", \"end_time\"]\n",
        "                }\n",
        "            },\n",
        "            {\n",
        "                \"name\": \"send_email\",\n",
        "                \"description\": \"Send an email\",\n",
        "                \"parameters\": {\n",
        "                    \"type\": \"object\",\n",
        "                    \"properties\": {\n",
        "                        \"to\": {\n",
        "                            \"type\": \"array\",\n",
        "                            \"items\": {\n",
        "                                \"type\": \"string\"\n",
        "                            },\n",
        "                            \"description\": \"List of email addresses to send to\"\n",
        "                        },\n",
        "                        \"subject\": {\n",
        "                            \"type\": \"string\",\n",
        "                            \"description\": \"The subject of the email\"\n",
        "                        },\n",
        "                        \"body\": {\n",
        "                            \"type\": \"string\",\n",
        "                            \"description\": \"The body of the email\"\n",
        "                        },\n",
        "                    },\n",
        "                    \"required\": [\"to\", \"subject\", \"body\"]\n",
        "                }\n",
        "            }\n",
        "        ]\n",
        "    }\n",
        "]"
      ]
    },
    {
      "cell_type": "code",
      "execution_count": null,
      "metadata": {
        "id": "z3FaR7luVsuN"
      },
      "outputs": [],
      "source": [
        "# Step 1: Check calendar availability\n",
        "check_calendar_prompt = \"\"\"\n",
        "Check if the calendar is available on 2025-05-12 from 2pm to 3pm.\n",
        "\"\"\"\n",
        "res = await run(check_calendar_prompt, modality=\"TEXT\", tools=meeting_tools)\n",
        "\n",
        "\n",
        "# Step 2: Create meeting\n",
        "create_meeting_prompt = \"\"\"\n",
        "    The calendar is available on 2025-05-12 from 2pm to 3pm.\n",
        "    Please create a project review meeting with attendees test1@gmail.com and test2@gmail.com.\n",
        "    \"\"\"\n",
        "calender_res = await run(create_meeting_prompt, modality=\"TEXT\", tools=meeting_tools)\n",
        "\n",
        "\n",
        "# Step 3: Send email notifications\n",
        "send_email_prompt = \"\"\"\n",
        "        Please send an email to test1@gmail.com and test2@gmail.com with subject of 'Project Review Meeting'\n",
        "        and description of 'Please join us for the project review meeting.'\n",
        "        Attach the project review meeting details i.e. 2025-05-12 from 2pm to 3pm and then end the email with a personalized closing that says 'Regards, Hassam (GDG Kolachi Lead)\n",
        "        \"\"\"\n",
        "await run(send_email_prompt, modality=\"TEXT\", tools=meeting_tools)\n",
        "\n",
        "\n"
      ]
    },
    {
      "cell_type": "code",
      "execution_count": null,
      "metadata": {
        "id": "MsQO6m6KjSZd"
      },
      "outputs": [],
      "source": [
        "# Extended Version\n",
        "\n",
        "# # Step 1: Check calendar availability\n",
        "# check_calendar_prompt = \"\"\"\n",
        "# Check if the calendar is available on 2025-05-12 from 2pm to 3pm.\n",
        "# \"\"\"\n",
        "# res = await run(check_calendar_prompt, modality=\"TEXT\", tools=meeting_tools)\n",
        "\n",
        "# if(res[0].response['available']):\n",
        "#     # Step 2: Create meeting\n",
        "#     create_meeting_prompt = \"\"\"\n",
        "#     The calendar is available on 2025-05-12 from 2pm to 3pm.\n",
        "#     Please create a project review meeting with attendees test1@gmail.com and test2@gmail.com.\n",
        "#     \"\"\"\n",
        "#     calender_res = await run(create_meeting_prompt, modality=\"TEXT\", tools=meeting_tools)\n",
        "\n",
        "#     if(calender_res[0].response['created']):\n",
        "#       # Step 3: Send email notifications\n",
        "#       send_email_prompt = \"\"\"\n",
        "#         A project review meeting has been created for 2025-05-12 at 2pm.\n",
        "#         Please send an email to test1@gmail.com and test2@gmail.com with subject of 'Project Review Meeting'\n",
        "#         and description of 'Please join us for the project review meeting.'\n",
        "#         End the email with a personalized closing that says 'Regards, Hassam (GDG Kolachi Lead)\n",
        "#         \"\"\"\n",
        "#       await run(send_email_prompt, modality=\"TEXT\", tools=meeting_tools)\n",
        "\n",
        "\n"
      ]
    },
    {
      "cell_type": "markdown",
      "metadata": {
        "id": "agp6lNF0kn24"
      },
      "source": [
        "### **Multi Tool Example:**"
      ]
    },
    {
      "cell_type": "code",
      "execution_count": null,
      "metadata": {
        "colab": {
          "background_save": true
        },
        "id": "fgs2SADVkmkK",
        "outputId": "327a1572-b2e7-4211-b836-497d322ce462"
      },
      "outputs": [
        {
          "data": {
            "text/markdown": "  Hey, I need you to do three things for me.\n\n  1. Write code in JavaScript language to check whether a number is even or odd.\n  2. Then use google search to lookup unformation about the GDG Kolachi and its recent events order by date in an descending order?\n  3. Turn on the lights\n\n  Thanks!\n  ",
            "text/plain": [
              "<IPython.core.display.Markdown object>"
            ]
          },
          "metadata": {},
          "output_type": "display_data"
        },
        {
          "data": {
            "text/markdown": "-------------------------------",
            "text/plain": [
              "<IPython.core.display.Markdown object>"
            ]
          },
          "metadata": {},
          "output_type": "display_data"
        },
        {
          "data": {
            "text/markdown": "Okay",
            "text/plain": [
              "<IPython.core.display.Markdown object>"
            ]
          },
          "metadata": {},
          "output_type": "display_data"
        },
        {
          "data": {
            "text/markdown": ", I can help with that. Here's the breakdown:\n\n1.",
            "text/plain": [
              "<IPython.core.display.Markdown object>"
            ]
          },
          "metadata": {},
          "output_type": "display_data"
        },
        {
          "data": {
            "text/markdown": "  **JavaScript Code:** I will provide the JavaScript code to check if a number is even or odd.\n2.  **Google Search:** I will use the search tool",
            "text/plain": [
              "<IPython.core.display.Markdown object>"
            ]
          },
          "metadata": {},
          "output_type": "display_data"
        },
        {
          "data": {
            "text/markdown": " to find information about GDG Kolachi and its recent events, ordering them by date in descending order.\n3.  **Turn on the lights**: I will call",
            "text/plain": [
              "<IPython.core.display.Markdown object>"
            ]
          },
          "metadata": {},
          "output_type": "display_data"
        },
        {
          "data": {
            "text/markdown": " the default_api to turn on the lights.\n\nHere is the JavaScript code.\n\n",
            "text/plain": [
              "<IPython.core.display.Markdown object>"
            ]
          },
          "metadata": {},
          "output_type": "display_data"
        },
        {
          "name": "stderr",
          "output_type": "stream",
          "text": [
            "WARNING:google_genai.types:Warning: there are non-text parts in the response: ['executable_code'], returning concatenated text result from text parts, check out the non text parts for full response from model.\n"
          ]
        },
        {
          "data": {
            "text/markdown": "-------------------------------",
            "text/plain": [
              "<IPython.core.display.Markdown object>"
            ]
          },
          "metadata": {},
          "output_type": "display_data"
        },
        {
          "data": {
            "text/markdown": "``` python\nprint(\"\"\"\nfunction isEvenOrOdd(number) {\n  if (number % 2 === 0) {\n    return \"Even\";\n  } else {\n    return \"Odd\";\n  }\n}\n\n// Example usage:\nconsole.log(isEvenOrOdd(4));  // Output: Even\nconsole.log(isEvenOrOdd(7));  // Output: Odd\n\"\"\")\n\n```",
            "text/plain": [
              "<IPython.core.display.Markdown object>"
            ]
          },
          "metadata": {},
          "output_type": "display_data"
        },
        {
          "data": {
            "text/markdown": "-------------------------------",
            "text/plain": [
              "<IPython.core.display.Markdown object>"
            ]
          },
          "metadata": {},
          "output_type": "display_data"
        },
        {
          "name": "stderr",
          "output_type": "stream",
          "text": [
            "WARNING:google_genai.types:Warning: there are non-text parts in the response: ['code_execution_result'], returning concatenated text result from text parts, check out the non text parts for full response from model.\n"
          ]
        },
        {
          "data": {
            "text/markdown": "-------------------------------",
            "text/plain": [
              "<IPython.core.display.Markdown object>"
            ]
          },
          "metadata": {},
          "output_type": "display_data"
        },
        {
          "data": {
            "text/markdown": "```\nfunction isEvenOrOdd(number) {\n  if (number % 2 === 0) {\n    return \"Even\";\n  } else {\n    return \"Odd\";\n  }\n}\n\n// Example usage:\nconsole.log(isEvenOrOdd(4));  // Output: Even\nconsole.log(isEvenOrOdd(7));  // Output: Odd\n\n```",
            "text/plain": [
              "<IPython.core.display.Markdown object>"
            ]
          },
          "metadata": {},
          "output_type": "display_data"
        },
        {
          "data": {
            "text/markdown": "-------------------------------",
            "text/plain": [
              "<IPython.core.display.Markdown object>"
            ]
          },
          "metadata": {},
          "output_type": "display_data"
        },
        {
          "data": {
            "text/markdown": "Now",
            "text/plain": [
              "<IPython.core.display.Markdown object>"
            ]
          },
          "metadata": {},
          "output_type": "display_data"
        },
        {
          "data": {
            "text/markdown": ", let's search for information about GDG Kolachi and its recent events",
            "text/plain": [
              "<IPython.core.display.Markdown object>"
            ]
          },
          "metadata": {},
          "output_type": "display_data"
        },
        {
          "data": {
            "text/markdown": ".\n",
            "text/plain": [
              "<IPython.core.display.Markdown object>"
            ]
          },
          "metadata": {},
          "output_type": "display_data"
        },
        {
          "name": "stderr",
          "output_type": "stream",
          "text": [
            "WARNING:google_genai.types:Warning: there are non-text parts in the response: ['executable_code'], returning concatenated text result from text parts, check out the non text parts for full response from model.\n"
          ]
        },
        {
          "data": {
            "text/markdown": "-------------------------------",
            "text/plain": [
              "<IPython.core.display.Markdown object>"
            ]
          },
          "metadata": {},
          "output_type": "display_data"
        },
        {
          "data": {
            "text/markdown": "``` python\nconcise_search(\"GDG Kolachi recent events\", max_num_results=5)\n\n```",
            "text/plain": [
              "<IPython.core.display.Markdown object>"
            ]
          },
          "metadata": {},
          "output_type": "display_data"
        },
        {
          "data": {
            "text/markdown": "-------------------------------",
            "text/plain": [
              "<IPython.core.display.Markdown object>"
            ]
          },
          "metadata": {},
          "output_type": "display_data"
        },
        {
          "name": "stderr",
          "output_type": "stream",
          "text": [
            "WARNING:google_genai.types:Warning: there are non-text parts in the response: ['code_execution_result'], returning concatenated text result from text parts, check out the non text parts for full response from model.\n"
          ]
        },
        {
          "data": {
            "text/markdown": "-------------------------------",
            "text/plain": [
              "<IPython.core.display.Markdown object>"
            ]
          },
          "metadata": {},
          "output_type": "display_data"
        },
        {
          "data": {
            "text/markdown": "```Looking up information on Google Search.\n```",
            "text/plain": [
              "<IPython.core.display.Markdown object>"
            ]
          },
          "metadata": {},
          "output_type": "display_data"
        },
        {
          "data": {
            "text/markdown": "-------------------------------",
            "text/plain": [
              "<IPython.core.display.Markdown object>"
            ]
          },
          "metadata": {},
          "output_type": "display_data"
        },
        {
          "data": {
            "text/markdown": "Based",
            "text/plain": [
              "<IPython.core.display.Markdown object>"
            ]
          },
          "metadata": {},
          "output_type": "display_data"
        },
        {
          "data": {
            "text/markdown": " on the search results, here's a summary of GDG Kolachi'",
            "text/plain": [
              "<IPython.core.display.Markdown object>"
            ]
          },
          "metadata": {},
          "output_type": "display_data"
        },
        {
          "data": {
            "text/markdown": "s recent events in descending order:\n\n*   **Apr 18, 2025:** Blaze 4.0 – Redefine Possible!\n",
            "text/plain": [
              "<IPython.core.display.Markdown object>"
            ]
          },
          "metadata": {},
          "output_type": "display_data"
        },
        {
          "data": {
            "text/markdown": "*   **Apr 12, 2025:** Build with AI Karachi.\n*   **Feb 26, 202",
            "text/plain": [
              "<IPython.core.display.Markdown object>"
            ]
          },
          "metadata": {},
          "output_type": "display_data"
        },
        {
          "data": {
            "text/markdown": "5:** Code to Create v1.0.\n*   **Feb 7, 2025:** Karachi Walon, AI Seekho.",
            "text/plain": [
              "<IPython.core.display.Markdown object>"
            ]
          },
          "metadata": {},
          "output_type": "display_data"
        },
        {
          "data": {
            "text/markdown": "\n*   **Dec 30, 2023:** DevFest Sindh 2023 - #TechSayMustaqbil.\n",
            "text/plain": [
              "<IPython.core.display.Markdown object>"
            ]
          },
          "metadata": {},
          "output_type": "display_data"
        },
        {
          "data": {
            "text/markdown": "*   **Oct 25, 2023:** Road to DevFest Sindh 2023 - #TechSayUraan.",
            "text/plain": [
              "<IPython.core.display.Markdown object>"
            ]
          },
          "metadata": {},
          "output_type": "display_data"
        },
        {
          "data": {
            "text/markdown": "\n*   **December 24, 2022:** DevFest Karachi 2022\n\nFinally, let's turn on the",
            "text/plain": [
              "<IPython.core.display.Markdown object>"
            ]
          },
          "metadata": {},
          "output_type": "display_data"
        },
        {
          "data": {
            "text/markdown": " lights. I will set the brightness to 1.0.\n",
            "text/plain": [
              "<IPython.core.display.Markdown object>"
            ]
          },
          "metadata": {},
          "output_type": "display_data"
        },
        {
          "name": "stderr",
          "output_type": "stream",
          "text": [
            "WARNING:google_genai.types:Warning: there are non-text parts in the response: ['executable_code'], returning concatenated text result from text parts, check out the non text parts for full response from model.\n"
          ]
        },
        {
          "data": {
            "text/markdown": "-------------------------------",
            "text/plain": [
              "<IPython.core.display.Markdown object>"
            ]
          },
          "metadata": {},
          "output_type": "display_data"
        },
        {
          "data": {
            "text/markdown": "``` python\ndefault_api.dim_lights(brightness=1.0)\n\n```",
            "text/plain": [
              "<IPython.core.display.Markdown object>"
            ]
          },
          "metadata": {},
          "output_type": "display_data"
        },
        {
          "data": {
            "text/markdown": "-------------------------------",
            "text/plain": [
              "<IPython.core.display.Markdown object>"
            ]
          },
          "metadata": {},
          "output_type": "display_data"
        },
        {
          "data": {
            "text/html": [
              "<style>\n",
              ".container {\n",
              "  align-items: center;\n",
              "  border-radius: 8px;\n",
              "  display: flex;\n",
              "  font-family: Google Sans, Roboto, sans-serif;\n",
              "  font-size: 14px;\n",
              "  line-height: 20px;\n",
              "  padding: 8px 12px;\n",
              "}\n",
              ".chip {\n",
              "  display: inline-block;\n",
              "  border: solid 1px;\n",
              "  border-radius: 16px;\n",
              "  min-width: 14px;\n",
              "  padding: 5px 16px;\n",
              "  text-align: center;\n",
              "  user-select: none;\n",
              "  margin: 0 8px;\n",
              "  -webkit-tap-highlight-color: transparent;\n",
              "}\n",
              ".carousel {\n",
              "  overflow: auto;\n",
              "  scrollbar-width: none;\n",
              "  white-space: nowrap;\n",
              "  margin-right: -12px;\n",
              "}\n",
              ".headline {\n",
              "  display: flex;\n",
              "  margin-right: 4px;\n",
              "}\n",
              ".gradient-container {\n",
              "  position: relative;\n",
              "}\n",
              ".gradient {\n",
              "  position: absolute;\n",
              "  transform: translate(3px, -9px);\n",
              "  height: 36px;\n",
              "  width: 9px;\n",
              "}\n",
              "@media (prefers-color-scheme: light) {\n",
              "  .container {\n",
              "    background-color: #fafafa;\n",
              "    box-shadow: 0 0 0 1px #0000000f;\n",
              "  }\n",
              "  .headline-label {\n",
              "    color: #1f1f1f;\n",
              "  }\n",
              "  .chip {\n",
              "    background-color: #ffffff;\n",
              "    border-color: #d2d2d2;\n",
              "    color: #5e5e5e;\n",
              "    text-decoration: none;\n",
              "  }\n",
              "  .chip:hover {\n",
              "    background-color: #f2f2f2;\n",
              "  }\n",
              "  .chip:focus {\n",
              "    background-color: #f2f2f2;\n",
              "  }\n",
              "  .chip:active {\n",
              "    background-color: #d8d8d8;\n",
              "    border-color: #b6b6b6;\n",
              "  }\n",
              "  .logo-dark {\n",
              "    display: none;\n",
              "  }\n",
              "  .gradient {\n",
              "    background: linear-gradient(90deg, #fafafa 15%, #fafafa00 100%);\n",
              "  }\n",
              "}\n",
              "@media (prefers-color-scheme: dark) {\n",
              "  .container {\n",
              "    background-color: #1f1f1f;\n",
              "    box-shadow: 0 0 0 1px #ffffff26;\n",
              "  }\n",
              "  .headline-label {\n",
              "    color: #fff;\n",
              "  }\n",
              "  .chip {\n",
              "    background-color: #2c2c2c;\n",
              "    border-color: #3c4043;\n",
              "    color: #fff;\n",
              "    text-decoration: none;\n",
              "  }\n",
              "  .chip:hover {\n",
              "    background-color: #353536;\n",
              "  }\n",
              "  .chip:focus {\n",
              "    background-color: #353536;\n",
              "  }\n",
              "  .chip:active {\n",
              "    background-color: #464849;\n",
              "    border-color: #53575b;\n",
              "  }\n",
              "  .logo-light {\n",
              "    display: none;\n",
              "  }\n",
              "  .gradient {\n",
              "    background: linear-gradient(90deg, #1f1f1f 15%, #1f1f1f00 100%);\n",
              "  }\n",
              "}\n",
              "</style>\n",
              "<div class=\"container\">\n",
              "  <div class=\"headline\">\n",
              "    <svg class=\"logo-light\" width=\"18\" height=\"18\" viewBox=\"9 9 35 35\" fill=\"none\" xmlns=\"http://www.w3.org/2000/svg\">\n",
              "      <path fill-rule=\"evenodd\" clip-rule=\"evenodd\" d=\"M42.8622 27.0064C42.8622 25.7839 42.7525 24.6084 42.5487 23.4799H26.3109V30.1568H35.5897C35.1821 32.3041 33.9596 34.1222 32.1258 35.3448V39.6864H37.7213C40.9814 36.677 42.8622 32.2571 42.8622 27.0064V27.0064Z\" fill=\"#4285F4\"/>\n",
              "      <path fill-rule=\"evenodd\" clip-rule=\"evenodd\" d=\"M26.3109 43.8555C30.9659 43.8555 34.8687 42.3195 37.7213 39.6863L32.1258 35.3447C30.5898 36.3792 28.6306 37.0061 26.3109 37.0061C21.8282 37.0061 18.0195 33.9811 16.6559 29.906H10.9194V34.3573C13.7563 39.9841 19.5712 43.8555 26.3109 43.8555V43.8555Z\" fill=\"#34A853\"/>\n",
              "      <path fill-rule=\"evenodd\" clip-rule=\"evenodd\" d=\"M16.6559 29.8904C16.3111 28.8559 16.1074 27.7588 16.1074 26.6146C16.1074 25.4704 16.3111 24.3733 16.6559 23.3388V18.8875H10.9194C9.74388 21.2072 9.06992 23.8247 9.06992 26.6146C9.06992 29.4045 9.74388 32.022 10.9194 34.3417L15.3864 30.8621L16.6559 29.8904V29.8904Z\" fill=\"#FBBC05\"/>\n",
              "      <path fill-rule=\"evenodd\" clip-rule=\"evenodd\" d=\"M26.3109 16.2386C28.85 16.2386 31.107 17.1164 32.9095 18.8091L37.8466 13.8719C34.853 11.082 30.9659 9.3736 26.3109 9.3736C19.5712 9.3736 13.7563 13.245 10.9194 18.8875L16.6559 23.3388C18.0195 19.2636 21.8282 16.2386 26.3109 16.2386V16.2386Z\" fill=\"#EA4335\"/>\n",
              "    </svg>\n",
              "    <svg class=\"logo-dark\" width=\"18\" height=\"18\" viewBox=\"0 0 48 48\" xmlns=\"http://www.w3.org/2000/svg\">\n",
              "      <circle cx=\"24\" cy=\"23\" fill=\"#FFF\" r=\"22\"/>\n",
              "      <path d=\"M33.76 34.26c2.75-2.56 4.49-6.37 4.49-11.26 0-.89-.08-1.84-.29-3H24.01v5.99h8.03c-.4 2.02-1.5 3.56-3.07 4.56v.75l3.91 2.97h.88z\" fill=\"#4285F4\"/>\n",
              "      <path d=\"M15.58 25.77A8.845 8.845 0 0 0 24 31.86c1.92 0 3.62-.46 4.97-1.31l4.79 3.71C31.14 36.7 27.65 38 24 38c-5.93 0-11.01-3.4-13.45-8.36l.17-1.01 4.06-2.85h.8z\" fill=\"#34A853\"/>\n",
              "      <path d=\"M15.59 20.21a8.864 8.864 0 0 0 0 5.58l-5.03 3.86c-.98-2-1.53-4.25-1.53-6.64 0-2.39.55-4.64 1.53-6.64l1-.22 3.81 2.98.22 1.08z\" fill=\"#FBBC05\"/>\n",
              "      <path d=\"M24 14.14c2.11 0 4.02.75 5.52 1.98l4.36-4.36C31.22 9.43 27.81 8 24 8c-5.93 0-11.01 3.4-13.45 8.36l5.03 3.85A8.86 8.86 0 0 1 24 14.14z\" fill=\"#EA4335\"/>\n",
              "    </svg>\n",
              "    <div class=\"gradient-container\"><div class=\"gradient\"></div></div>\n",
              "  </div>\n",
              "  <div class=\"carousel\">\n",
              "    <a class=\"chip\" href=\"https://vertexaisearch.cloud.google.com/grounding-api-redirect/AbF9wXET53ESzZGOa33IxTMmRdLIi8HiXSPF9koimLZAjUgWLpwQRKnzKLrxPt-lA_6RR6aR0yIoHELA6U8XTJ_gi-DOCuFU17LQZE_mg6Wy2EvHG31mu2im0D-sGjsglQ04UJMvPhAOpE7GFt0yAPYno0_U75mnirwp-Dj6Y-HYT54hbMfkGdhrAkUws4gRePv1y5RkkAHMC_M=\">GDG Kolachi recent events</a>\n",
              "  </div>\n",
              "</div>\n"
            ],
            "text/plain": [
              "<IPython.core.display.HTML object>"
            ]
          },
          "metadata": {},
          "output_type": "display_data"
        },
        {
          "name": "stdout",
          "output_type": "stream",
          "text": [
            "✅ Function result: {'reslt': 'ok'}\n",
            "\n",
            " Response >>>  [FunctionResponse(will_continue=None, scheduling=None, id='function-call-8265470664609986522', name='dim_lights', response={'reslt': 'ok'})]\n"
          ]
        },
        {
          "data": {
            "text/markdown": "```tool_outputs",
            "text/plain": [
              "<IPython.core.display.Markdown object>"
            ]
          },
          "metadata": {},
          "output_type": "display_data"
        },
        {
          "data": {
            "text/markdown": "\n{}\n```",
            "text/plain": [
              "<IPython.core.display.Markdown object>"
            ]
          },
          "metadata": {},
          "output_type": "display_data"
        }
      ],
      "source": [
        "\n",
        "prompt = \"\"\"\\\n",
        "  Hey, I need you to do three things for me.\n",
        "\n",
        "  1. Write code in JavaScript language to check whether a number is even or odd.\n",
        "  2. Then use google search to lookup unformation about the GDG Kolachi and its recent events order by date in an descending order?\n",
        "  3. Turn on the lights\n",
        "\n",
        "  Thanks!\n",
        "  \"\"\"\n",
        "\n",
        "tools = [\n",
        "    {'google_search': {}},\n",
        "    {'code_execution': {}},\n",
        "    {'function_declarations': [dim_lights]}\n",
        "]\n",
        "\n",
        "await run(prompt, tools=tools)"
      ]
    },
    {
      "cell_type": "markdown",
      "metadata": {
        "id": "ike_zvRCkyBL"
      },
      "source": [
        "### **Google Developer, can you write a custom function that can Turn On/Off the AC at Hive ?**"
      ]
    }
  ],
  "metadata": {
    "colab": {
      "collapsed_sections": [
        "zds864joj9Cy",
        "cH59wuaEjwPk",
        "VmtQyRm5izV5",
        "chdbVzckhGyC"
      ],
      "provenance": [],
      "include_colab_link": true
    },
    "kernelspec": {
      "display_name": "Python 3",
      "name": "python3"
    },
    "language_info": {
      "name": "python"
    }
  },
  "nbformat": 4,
  "nbformat_minor": 0
}